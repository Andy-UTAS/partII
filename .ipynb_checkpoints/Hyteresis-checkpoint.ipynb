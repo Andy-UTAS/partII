{
 "cells": [
  {
   "cell_type": "markdown",
   "metadata": {},
   "source": [
    "# The hysteresis of iron\n",
    "\n",
    "This is a notebook to accompany the 2nd-year experiement _the hysteresis of iron_ at UTAS.\n",
    "\n",
    "Written and curated by AJM, created May 2023, Version 1.0.0 dated June 2025."
   ]
  },
  {
   "cell_type": "markdown",
   "metadata": {},
   "source": [
    "## Import packages\n",
    "\n",
    "To streamline operations in Python, packages can be imported to perform a host of various tasks. To make this process as simple as possible, all the required packages are included in the file `hysteresis.py`"
   ]
  },
  {
   "cell_type": "code",
   "execution_count": null,
   "metadata": {
    "ExecuteTime": {
     "end_time": "2025-06-04T02:00:43.167199Z",
     "start_time": "2025-06-04T02:00:41.095142Z"
    },
    "tags": []
   },
   "outputs": [],
   "source": [
    "from hysteresis import * # pull in all content from the python file `hysteresis.py`, which contains the code for these calculations"
   ]
  },
  {
   "cell_type": "markdown",
   "metadata": {},
   "source": [
    "## Anhysteretic magnetisation"
   ]
  },
  {
   "cell_type": "markdown",
   "metadata": {},
   "source": [
    "As discussed in the notes, the Jiles–Atherton model relies on solving a differential equation, which includes the _anhysteretic_ magnetisation. This can be calculated, and a sample plot is shown below, based on the parameters from the paper _[On the parameter identification and application of the Jiles-Atherton hysteresis model for numerical modelling of measured characteristics](https://doi.org/10.1109/20.767167)_."
   ]
  },
  {
   "cell_type": "markdown",
   "metadata": {},
   "source": [
    "### Initialise the parameters\n",
    "\n",
    "Here we set the parameters so we can perform the calculations. Think about what these things are, and how you might expect the magnetisation to change as you vary them."
   ]
  },
  {
   "cell_type": "code",
   "execution_count": null,
   "metadata": {
    "tags": []
   },
   "outputs": [],
   "source": [
    "Ms = 1.48e6 # Saturation magnetisation [A/m]\n",
    "a = 470 # domain wall density (roughly the magnetic field strength) [A/m]\n",
    "Hmin = -1000 # minimum external field strength [A/m]\n",
    "Hmax = 1000 # maximum external field strength [A/m]\n",
    "\n",
    "alpha = 9.38e-4 # mean field parameter"
   ]
  },
  {
   "cell_type": "markdown",
   "metadata": {},
   "source": [
    "### Make the plot\n",
    "\n",
    "If you are unfamiliar with ``python``, computations can look a bit strange, and making plots even more so. But have a close look at the code and associated comments, and combined with the content on POLUS, you should be able to figure out what is going on, and make any changes that you see fit."
   ]
  },
  {
   "cell_type": "code",
   "execution_count": null,
   "metadata": {
    "tags": []
   },
   "outputs": [],
   "source": [
    "fig, ax = plt.subplots() # We are going to make a plot, and it is good to initialise the plot, so we can tell functions to write to a specific plot\n",
    "\n",
    "plot_anhysteretic(ax, Hmin, Hmax, Ms, a, alpha/2) # This is the function that performs the computation. It is a black box, but has (hopefully) obvious inputs\n",
    "\n",
    "# Everything below is for aestheic purposes\n",
    "ax.set_xlim([Hmin, Hmax]) # Set the x range for the plot\n",
    "ax.set_ylim([-1, 1]) # Set the y range for the plot\n",
    "ax.set_xlabel('H [A/m]') # Set the label for the x axis\n",
    "ax.set_ylabel('M/Ms') # Set the label for the y axis\n",
    "ax.set_title('Anhysteretic Magnetisation') # Set the plot title\n",
    "plt.grid() # Place a grid on the plot to make it easy to see when the function evalutes to specific values\n",
    "\n",
    "plt.show() # Show the plot"
   ]
  },
  {
   "cell_type": "markdown",
   "metadata": {},
   "source": [
    "## Hysteresis in all its glory\n",
    "\n",
    "The process for solving for the full hysteresis curve is more complicated, but we can manipulate it in the same way: investigating the effects of altering specific parameters. Once again, these parameters come from the paper _On the parameter identification and application of the Jiles-Atherton hysteresis model for numerical modelling of measured characteristics_"
   ]
  },
  {
   "cell_type": "markdown",
   "metadata": {},
   "source": [
    "### Initializate the parameters"
   ]
  },
  {
   "cell_type": "code",
   "execution_count": null,
   "metadata": {},
   "outputs": [],
   "source": [
    "Hmax = 5000 # maximum external field strength [A/m]\n",
    "Ms = 1.48e6 # Saturation magnetisation [A/m]\n",
    "a = 470 # domain wall density (roughly the magnetic field strength) [A/m]\n",
    "alpha = 9.38e-4 # mean field parameter\n",
    "k = 483 # Hysteretic parameter [A/m]\n",
    "c = 0.0889 # Magnetic reversibility"
   ]
  },
  {
   "cell_type": "markdown",
   "metadata": {},
   "source": [
    "### Make the plot"
   ]
  },
  {
   "cell_type": "code",
   "execution_count": null,
   "metadata": {},
   "outputs": [],
   "source": [
    "H = H_arr(Hmax, curve_type='full')\n",
    "M0 = 0\n",
    "dydt = partial(dMdH, Ms=Ms, a=a, alpha=alpha, k=k, c=c)\n",
    "M = np.array(euler(dydt, M0, H))\n",
    "plt.plot(H, M / Ms)\n",
    "plt.xlim([-Hmax-1000, Hmax+1000])\n",
    "plt.ylim([-1, 1])\n",
    "plt.title('Initial Magnetisation of Iron')\n",
    "plt.xlabel('H [A/m]')\n",
    "plt.ylabel('M/Ms')\n",
    "plt.grid()\n",
    "if False:\n",
    "    plt.savefig('initialmag.pdf', facecolor='white', transparent=False)\n",
    "plt.show()"
   ]
  },
  {
   "cell_type": "code",
   "execution_count": null,
   "metadata": {},
   "outputs": [],
   "source": []
  }
 ],
 "metadata": {
  "kernelspec": {
   "display_name": "Python 3 (ipykernel)",
   "language": "python",
   "name": "python3"
  },
  "language_info": {
   "codemirror_mode": {
    "name": "ipython",
    "version": 3
   },
   "file_extension": ".py",
   "mimetype": "text/x-python",
   "name": "python",
   "nbconvert_exporter": "python",
   "pygments_lexer": "ipython3",
   "version": "3.10.9"
  },
  "widgets": {
   "application/vnd.jupyter.widget-state+json": {
    "state": {},
    "version_major": 2,
    "version_minor": 0
   }
  }
 },
 "nbformat": 4,
 "nbformat_minor": 4
}
